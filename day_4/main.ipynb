{
 "cells": [
  {
   "cell_type": "markdown",
   "metadata": {},
   "source": [
    "the mersenne twister\n",
    "\n",
    "pseudorandom number generators \n",
    "\n",
    "https://www.khanacademy.org/computing/computer-science/cryptography/crypt/v/random-vs-pseudorandom-number-generators"
   ]
  },
  {
   "cell_type": "markdown",
   "metadata": {},
   "source": []
  },
  {
   "cell_type": "code",
   "execution_count": 100,
   "metadata": {},
   "outputs": [
    {
     "name": "stdout",
     "output_type": "stream",
     "text": [
      "4.888986582243176\n"
     ]
    }
   ],
   "source": [
    "import random\n",
    "#integers\n",
    "random_integer = random.randint(0,5)\n",
    "#floats\n",
    "random_float = random.random()*5\n",
    "\n",
    "print(random_float)"
   ]
  },
  {
   "cell_type": "code",
   "execution_count": 102,
   "metadata": {},
   "outputs": [
    {
     "data": {
      "text/plain": [
       "'cherry'"
      ]
     },
     "execution_count": 102,
     "metadata": {},
     "output_type": "execute_result"
    }
   ],
   "source": [
    "fruits = ['cherry', 'apple', 'pear']\n",
    "fruits[0]"
   ]
  },
  {
   "cell_type": "code",
   "execution_count": 103,
   "metadata": {},
   "outputs": [],
   "source": [
    "fruits.append('orange')"
   ]
  },
  {
   "cell_type": "code",
   "execution_count": 105,
   "metadata": {},
   "outputs": [],
   "source": [
    "fruits.extend(['carrot', 'popcorn'])"
   ]
  },
  {
   "cell_type": "code",
   "execution_count": 107,
   "metadata": {},
   "outputs": [],
   "source": [
    "fruits = [\"Strawberries\", \"Nectarines\", \"Apples\", \"Grapes\", \"Peaches\", \"Cherries\", \"Pears\"]\n",
    "vegetables = [\"Spinach\", \"Kale\", \"Tomatoes\", \"Celery\", \"Potatoes\"]\n",
    "\n",
    "dd = [fruits, vegetables]"
   ]
  },
  {
   "cell_type": "code",
   "execution_count": 112,
   "metadata": {},
   "outputs": [
    {
     "data": {
      "text/plain": [
       "'Nectarines'"
      ]
     },
     "execution_count": 112,
     "metadata": {},
     "output_type": "execute_result"
    }
   ],
   "source": [
    "dd[0][1]"
   ]
  },
  {
   "cell_type": "code",
   "execution_count": 132,
   "metadata": {},
   "outputs": [
    {
     "name": "stdout",
     "output_type": "stream",
     "text": [
      "Hiding your treasure! X marks the spot.\n",
      "['⬜️', '️⬜️', '️⬜️']\n",
      "['⬜️', '⬜️', '️⬜️']\n",
      "['⬜️️', 'x', '⬜️️']\n"
     ]
    }
   ],
   "source": [
    "line1 = [\"⬜️\",\"️⬜️\",\"️⬜️\"]\n",
    "line2 = [\"⬜️\",\"⬜️\",\"️⬜️\"]\n",
    "line3 = [\"⬜️️\",\"⬜️️\",\"⬜️️\"]\n",
    "map = [line1, line2, line3]\n",
    "print(\"Hiding your treasure! X marks the spot.\")\n",
    "position = 'b3' # Where do you want to put the treasure?\n",
    "# 🚨 Don't change the code above 👆\n",
    "# Write your code below this row 👇\n",
    "letter = position[0].lower()\n",
    "abc = ['a','b','c']\n",
    "number = abc.index(letter)\n",
    "letter_number = int(position[1])-1\n",
    "map[int(letter_number)][int(number)] = 'x'\n",
    "\n",
    "# Write your code above this row 👆\n",
    "# 🚨 Don't change the code below 👇\n",
    "print(f\"{line1}\\n{line2}\\n{line3}\")"
   ]
  },
  {
   "cell_type": "code",
   "execution_count": 196,
   "metadata": {},
   "outputs": [
    {
     "name": "stdout",
     "output_type": "stream",
     "text": [
      "Welcome to rock, paper, scissors game\n",
      "Computer chose rock! \n",
      "    _______\n",
      "---'   ____)\n",
      "      (_____)\n",
      "      (_____)\n",
      "      (____)\n",
      "---.__(___)\n",
      "\n",
      "You chose paper! \n",
      "     _______\n",
      "---'    ____)____\n",
      "           ______)\n",
      "          _______)\n",
      "         _______)\n",
      "---.__________)\n",
      "\n",
      "You win!\n"
     ]
    }
   ],
   "source": [
    "#paper rock scissors \n",
    "import random\n",
    "print('Welcome to rock, paper, scissors game')\n",
    "human_choice = input('What do you choose? rock, paper or scissors?')\n",
    "\n",
    "computer_choice = [\"rock\", \"paper\", \"scissors\"]\n",
    "\n",
    "computer_choice = random.choice(computer_choice)\n",
    "\n",
    "rock = \"\"\"\n",
    "    _______\n",
    "---'   ____)\n",
    "      (_____)\n",
    "      (_____)\n",
    "      (____)\n",
    "---.__(___)\n",
    "\"\"\"\n",
    "\n",
    "paper = \"\"\"\n",
    "     _______\n",
    "---'    ____)____\n",
    "           ______)\n",
    "          _______)\n",
    "         _______)\n",
    "---.__________)\n",
    "\"\"\"\n",
    "\n",
    "scissors = \"\"\"\n",
    "    _______\n",
    "---'   ____)____\n",
    "          ______)\n",
    "       __________)\n",
    "      (____)\n",
    "---.__(___)\n",
    "\"\"\"\n",
    "\n",
    "#rock vs \n",
    "if computer_choice == 'rock' and human_choice == 'paper':\n",
    "    print(f\"Computer chose rock! {rock}\")\n",
    "    print(f\"You chose paper! {paper}\")\n",
    "    print('You win!')\n",
    "elif computer_choice == 'rock' and human_choice == 'rock':\n",
    "    print(f\"Computer chose rock! {rock}\")\n",
    "    print(f\"You chose rock! {rock}\")\n",
    "    print(\"It's a tie!\")\n",
    "elif computer_choice == 'rock' and human_choice == 'scissors':\n",
    "    print(f\"Computer chose rock! {rock}\")\n",
    "    print(f\"You chose scissors! {scissors}\")\n",
    "    print(\"You lose, computer wins!\")\n",
    "\n",
    "#paper vs\n",
    "elif computer_choice == 'paper' and human_choice == 'paper':\n",
    "    print(f\"Computer chose paper! {paper}\")\n",
    "    print(f\"You chose paper! {paper}\")\n",
    "    print(\"It's a tie!\")\n",
    "elif computer_choice == 'paper' and human_choice == 'rock':\n",
    "    print(f\"Computer chose paper! {paper}\")\n",
    "    print(f\"You chose rock! {rock}\")\n",
    "    print(\"You lose, computer wins!\")\n",
    "elif computer_choice == 'paper' and human_choice == 'scissors':\n",
    "    print(f\"Computer chose paper! {paper}\")\n",
    "    print(f\"You chose scissors! {paper}\")\n",
    "    print('You win!')\n",
    "\n",
    "#scissors vs \n",
    "elif computer_choice == 'scissors' and human_choice == 'paper':\n",
    "    print(f\"Computer chose scissors! {scissors}\")\n",
    "    print(f\"You chose paper! {paper}\")\n",
    "    print(\"You lose, computer wins!\")\n",
    "elif computer_choice == 'paper' and human_choice == 'rock':\n",
    "    print(f\"Computer chose paper! {paper}\")\n",
    "    print(f\"You chose rock! {rock}\")\n",
    "    print(\"You lose, computer wins!\")\n",
    "elif computer_choice == 'scissors' and human_choice == 'scissors':\n",
    "    print(f\"Computer chose scissors! {scissors}\")\n",
    "    print(f\"You chose scissors! {scissors}\")\n",
    "    print(\"It's a tie!\")\n",
    "else:\n",
    "    print(\"What??\")\n",
    "\n",
    "\n",
    "    \n"
   ]
  },
  {
   "cell_type": "code",
   "execution_count": 158,
   "metadata": {},
   "outputs": [
    {
     "name": "stdout",
     "output_type": "stream",
     "text": [
      "scissors\n"
     ]
    }
   ],
   "source": [
    "computer_choice = [\"rock\", \"paper\", \"scissors\"]\n",
    "\n",
    "computer_choice = random.choice(computer_choice)\n",
    "\n",
    "print(computer_choice)"
   ]
  }
 ],
 "metadata": {
  "kernelspec": {
   "display_name": "Python 3",
   "language": "python",
   "name": "python3"
  },
  "language_info": {
   "codemirror_mode": {
    "name": "ipython",
    "version": 3
   },
   "file_extension": ".py",
   "mimetype": "text/x-python",
   "name": "python",
   "nbconvert_exporter": "python",
   "pygments_lexer": "ipython3",
   "version": "3.11.7"
  }
 },
 "nbformat": 4,
 "nbformat_minor": 2
}
