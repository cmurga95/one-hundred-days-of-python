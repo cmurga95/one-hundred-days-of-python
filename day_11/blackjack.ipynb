{
 "cells": [
  {
   "cell_type": "markdown",
   "metadata": {},
   "source": [
    "goal of the game is to add up cards to largest numbers without going over 21\n",
    "\n",
    "if the cards add up to more than 21 is called a bust, means that you lose immediately \n",
    "\n",
    "if its over 21 you lose \n",
    "\n",
    "from 2 to 10 face value\n",
    "\n",
    "jack queen and king count as 10 \n",
    "\n",
    "the ace count either count as a 1 or as an 11\n",
    "\n",
    "dealers second hand is concealed \n",
    "\n",
    "you can see both of your own cards \n",
    "\n",
    "if your cards equals the dealer score, its a draw\n",
    "\n",
    "if the dealer ends up with a hand smaller than 17 they must take another card\n",
    "\n"
   ]
  },
  {
   "cell_type": "code",
   "execution_count": 6,
   "metadata": {},
   "outputs": [],
   "source": []
  },
  {
   "cell_type": "code",
   "execution_count": 138,
   "metadata": {},
   "outputs": [],
   "source": [
    "import random \n",
    "def select_card():\n",
    "    '''\n",
    "    returns a random card\n",
    "    '''\n",
    "    cards = [11, 2, 3, 4, 5, 6, 7, 8, 9, 10, 10, 10, 10]\n",
    "    card = random.choice(cards)\n",
    "    return card\n",
    "\n",
    "def score(inputcards):\n",
    "    '''\n",
    "    Calculates total of cards\n",
    "    Input is a list of cards\n",
    "    Output is a total\n",
    "    '''\n",
    "  \n",
    "    if sum(inputcards) == 21 and len(inputcards) == 2:\n",
    "        return 0\n",
    "        \n",
    "    if 11 in inputcards and sum(inputcards) > 21:\n",
    "        inputcards.remove(11)\n",
    "        inputcards.append(1)\n",
    "        return sum(inputcards)\n",
    "    \n",
    "    else:\n",
    "        return inputcards"
   ]
  },
  {
   "cell_type": "code",
   "execution_count": null,
   "metadata": {},
   "outputs": [],
   "source": []
  },
  {
   "cell_type": "code",
   "execution_count": 170,
   "metadata": {},
   "outputs": [],
   "source": [
    "def compare_score(dealer_hand, player_hand):\n",
    "    \n",
    "    if sum(dealer_hand) > 21 and sum(player_hand) > 21:\n",
    "        return \"You both went over.\"\n",
    "    \n",
    "    elif score(dealer_hand) == 0:\n",
    "        return \"Blackjack! Dealer wins\"\n",
    "    \n",
    "    elif score(player_hand) == 0:\n",
    "        return \"Blackjack! You win\"\n",
    "    if sum(dealer_hand) == sum(player_hand):\n",
    "        return \"It's a draw\"\n",
    "    \n",
    "    elif sum(dealer_hand) == 21:\n",
    "        return \"Dealer wins!\"\n",
    "\n",
    "    elif sum(player_hand) == 21:\n",
    "        return \"You win!\"\n",
    "\n",
    "    elif sum(dealer_hand) > 21:\n",
    "        return \"Dealer went over, you win!\"\n",
    "\n",
    "    elif sum(player_hand) > 21:\n",
    "        return \"You lose!\"\n",
    "    \n",
    "    elif sum(player_hand) < 21 and sum(dealer_hand) < 21:\n",
    "\n",
    "        if sum(player_hand) > sum(dealer_hand):\n",
    "            return \"You win! You are closer to 21.\"\n",
    "        else:\n",
    "            return \"You lose! Computer was closer to 21.\"\n"
   ]
  },
  {
   "cell_type": "code",
   "execution_count": 171,
   "metadata": {},
   "outputs": [],
   "source": [
    "\n",
    "def play_game():\n",
    "    import os \n",
    "\n",
    "    os.system('cls')\n",
    "\n",
    "    print(\"Welcome to the Black Jack Game\")\n",
    "\n",
    "    dealer_hand = []\n",
    "    player_hand = []\n",
    "\n",
    "\n",
    "    for _ in range(0,2):\n",
    "        dealer_hand.append(select_card())\n",
    "        player_hand.append(select_card())\n",
    "\n",
    "    dealer_hand_hidden = [dealer_hand[0], 'x']\n",
    "    game_on = True\n",
    "\n",
    "    \n",
    "    while game_on == True:\n",
    "        print(f'Dealer hand is: {dealer_hand_hidden}.')\n",
    "        print(f'Your hand is: {player_hand}. Current score: {sum(player_hand)}')\n",
    "\n",
    "        score_dealer = score(dealer_hand)\n",
    "        score_player = score(player_hand)\n",
    "\n",
    "        one_more = input(\"Do you want another card? 'y' or 'n' \")\n",
    "\n",
    "        if one_more == 'y':\n",
    "            player_hand.append(select_card())\n",
    "                \n",
    "            if sum(player_hand) > 21 or score(player_hand) == 0:\n",
    "                game_on == False\n",
    "\n",
    "        if one_more == 'n':\n",
    "            game_on = False\n",
    "\n",
    "\n",
    "    while score(dealer_hand) != 0 and sum(dealer_hand) < 17:\n",
    "        dealer_hand.append(select_card())\n",
    "        \n",
    "\n",
    "    print(f'Dealer hand is: {dealer_hand}. Current score: {sum(dealer_hand)}')\n",
    "    print(f'Your hand is: {player_hand}. Current score: {sum(player_hand)}')\n",
    "    print(f'Final score is: {compare_score(dealer_hand, player_hand)}')"
   ]
  },
  {
   "cell_type": "code",
   "execution_count": 175,
   "metadata": {},
   "outputs": [
    {
     "name": "stdout",
     "output_type": "stream",
     "text": [
      "Welcome to the Black Jack Game\n",
      "Dealer hand is: [7, 'x'].\n",
      "Your hand is: [10, 2]. Current score: 12\n",
      "Dealer hand is: [7, 'x'].\n",
      "Your hand is: [10, 2, 10]. Current score: 22\n",
      "Dealer hand is: [7, 9, 5]. Current score: 21\n",
      "Your hand is: [10, 2, 10]. Current score: 22\n",
      "Final score is: Dealer wins!\n"
     ]
    }
   ],
   "source": [
    "play_game()"
   ]
  }
 ],
 "metadata": {
  "kernelspec": {
   "display_name": "Python 3",
   "language": "python",
   "name": "python3"
  },
  "language_info": {
   "codemirror_mode": {
    "name": "ipython",
    "version": 3
   },
   "file_extension": ".py",
   "mimetype": "text/x-python",
   "name": "python",
   "nbconvert_exporter": "python",
   "pygments_lexer": "ipython3",
   "version": "3.11.7"
  }
 },
 "nbformat": 4,
 "nbformat_minor": 2
}
