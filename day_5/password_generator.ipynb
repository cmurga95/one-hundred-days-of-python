{
 "cells": [
  {
   "cell_type": "code",
   "execution_count": 61,
   "metadata": {},
   "outputs": [
    {
     "name": "stdout",
     "output_type": "stream",
     "text": [
      "Welcome to the PyPassword Generator!\n",
      "Here is your password: $97&%!O3dZ8)\n"
     ]
    }
   ],
   "source": [
    "import random \n",
    "\n",
    "random.seed(random.randint(1,10000))\n",
    "\n",
    "letters = ['a', 'b', 'c', 'd', 'e', 'f', 'g', 'h', 'i', 'j', 'k', 'l', 'm', 'n', 'o', 'p', 'q', 'r', 's', 't', 'u', 'v', 'w', 'x', 'y', 'z', \n",
    "           'A', 'B', 'C', 'D', 'E', 'F', 'G', 'H', 'I', 'J', 'K', 'L', 'M', 'O', 'P', 'Q', 'R', 'S', 'T', 'U', 'V', 'W', 'X', 'Y', 'Z']\n",
    "numbers = ['1', '2', '3', '4', '5', '6', '7', '8', '9', '0']\n",
    "symbols = ['!','#','$','%','&','(',')','*','+']\n",
    "\n",
    "print(\"Welcome to the PyPassword Generator!\")\n",
    "n_letters = int(input(\"How many letters would you like in your password?\\n\"))\n",
    "n_numbers = int(input(\"How many numbers would you like?\\n\"))\n",
    "n_symbols = int(input(\"How many symbols would you like\\n?\"))\n",
    "\n",
    "l = random.sample(letters, n_letters)\n",
    "n = random.sample(numbers, n_numbers)\n",
    "s = random.sample(symbols, n_symbols)\n",
    "pasword = l+n+s\n",
    "password = random.sample(pasword, len(pasword))\n",
    "\n",
    "p = ''\n",
    "\n",
    "for i in password:\n",
    "    p += i\n",
    "\n",
    "\n",
    "print(f\"Here is your password: {p}\")"
   ]
  },
  {
   "cell_type": "code",
   "execution_count": 100,
   "metadata": {},
   "outputs": [
    {
     "name": "stdout",
     "output_type": "stream",
     "text": [
      "*)v#y(%$#(b(\n"
     ]
    }
   ],
   "source": [
    "#using for loops (professors solution)\n",
    "password_list = []\n",
    "for char in range(1,n_letters + 1):\n",
    "    password_list.append(random.choice(letters))\n",
    "\n",
    "for char in range(1, n_numbers + 1):\n",
    "    password_list += random.choice(symbols)\n",
    "\n",
    "for char in range(1, n_symbols + 1):\n",
    "    password_list += random.choice(symbols)\n",
    "\n",
    "random.shuffle(password_list)\n",
    "p = ''\n",
    "for i in password_list:\n",
    "    p += i\n",
    "\n",
    "print(p)"
   ]
  }
 ],
 "metadata": {
  "kernelspec": {
   "display_name": "Python 3",
   "language": "python",
   "name": "python3"
  },
  "language_info": {
   "codemirror_mode": {
    "name": "ipython",
    "version": 3
   },
   "file_extension": ".py",
   "mimetype": "text/x-python",
   "name": "python",
   "nbconvert_exporter": "python",
   "pygments_lexer": "ipython3",
   "version": "3.11.7"
  }
 },
 "nbformat": 4,
 "nbformat_minor": 2
}
