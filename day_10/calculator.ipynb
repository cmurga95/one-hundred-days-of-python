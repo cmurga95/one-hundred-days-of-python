{
 "cells": [
  {
   "cell_type": "code",
   "execution_count": 1,
   "metadata": {},
   "outputs": [],
   "source": [
    "def add(n1, n2):\n",
    "    return n1+n2\n",
    "\n",
    "def subtract(n1, n2):\n",
    "    return n1-n2\n",
    "\n",
    "def multiply(n1,n2):\n",
    "    return n1* n2\n",
    "\n",
    "def divide(n1, n2):\n",
    "    return n1/n2"
   ]
  },
  {
   "cell_type": "code",
   "execution_count": 3,
   "metadata": {},
   "outputs": [],
   "source": [
    "operations = {\n",
    "    \"+\" : add,\n",
    "    \"-\" : subtract,\n",
    "    \"*\" : multiply,\n",
    "    \"/\" : divide\n",
    "              }"
   ]
  },
  {
   "cell_type": "code",
   "execution_count": 6,
   "metadata": {},
   "outputs": [],
   "source": [
    "num1 = int(input(\"What's the first number?\"))\n",
    "num2 = int(input(\"What's the second number?\"))"
   ]
  },
  {
   "cell_type": "code",
   "execution_count": 27,
   "metadata": {},
   "outputs": [],
   "source": [
    "def calculator():\n",
    "    num1 = float(input(\"What's the first number?\"))\n",
    "\n",
    "    for symbol in operations:\n",
    "        print(symbol)\n",
    "\n",
    "    should_continue = True\n",
    "\n",
    "    while should_continue is True:\n",
    "        operation_symbol = str(\"Pick an operation from the line above: \")\n",
    "        num2 = float(input(\"What's the next number?\"))\n",
    "        calculation_function = operations[str(operation_symbol)]\n",
    "        answer = calculation_function(num1, num2)\n",
    "\n",
    "        print(f\"{num1} {operation_symbol} {num2} = {answer}\")\n",
    "\n",
    "        if input(f\"Type 'y' to continue calculating with {answer}, or type 'n' to start a new calculation. Type 'close' to end the program.\") == 'y':\n",
    "            num1 = answer\n",
    "        elif input(f\"Type 'y' to continue calculating with {answer}, or type 'n' to start a new calculation. Type 'close' to end the program.\") == 'n':\n",
    "            should_continue = False\n",
    "            calculator()\n",
    "        else:\n",
    "            should_continue = False"
   ]
  },
  {
   "cell_type": "code",
   "execution_count": 28,
   "metadata": {},
   "outputs": [
    {
     "name": "stdout",
     "output_type": "stream",
     "text": [
      "+\n",
      "-\n",
      "*\n",
      "/\n",
      "3 * 3 = 9\n"
     ]
    }
   ],
   "source": [
    "#recursion\n",
    "# a function that calls itself\n",
    "calculator()"
   ]
  }
 ],
 "metadata": {
  "kernelspec": {
   "display_name": "Python 3",
   "language": "python",
   "name": "python3"
  },
  "language_info": {
   "codemirror_mode": {
    "name": "ipython",
    "version": 3
   },
   "file_extension": ".py",
   "mimetype": "text/x-python",
   "name": "python",
   "nbconvert_exporter": "python",
   "pygments_lexer": "ipython3",
   "version": "3.11.7"
  }
 },
 "nbformat": 4,
 "nbformat_minor": 2
}
