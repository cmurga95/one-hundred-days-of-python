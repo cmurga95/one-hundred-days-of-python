{
 "cells": [
  {
   "cell_type": "code",
   "execution_count": 18,
   "metadata": {},
   "outputs": [
    {
     "data": {
      "text/plain": [
       "'Carlos Murga'"
      ]
     },
     "execution_count": 18,
     "metadata": {},
     "output_type": "execute_result"
    }
   ],
   "source": [
    "def format_name(f_name, l_name):\n",
    "    '''\n",
    "    Takes first and last name and format it \n",
    "    to return the title case of the name.\n",
    "    '''\n",
    "    if f_name == \"\" or l_name == \"\":\n",
    "        return \"You didn't provide inputs.\"\n",
    "    formatedname = f_name.title()\n",
    "    formatedlast = l_name.title()\n",
    "    return f\"{formatedname} {formatedlast}\" #end of the function, exit function\n",
    "    \n",
    "format_name(input(\"What is your first name?\"), input(\"What is your last name?\"))"
   ]
  }
 ],
 "metadata": {
  "kernelspec": {
   "display_name": "Python 3",
   "language": "python",
   "name": "python3"
  },
  "language_info": {
   "codemirror_mode": {
    "name": "ipython",
    "version": 3
   },
   "file_extension": ".py",
   "mimetype": "text/x-python",
   "name": "python",
   "nbconvert_exporter": "python",
   "pygments_lexer": "ipython3",
   "version": "3.11.7"
  }
 },
 "nbformat": 4,
 "nbformat_minor": 2
}
