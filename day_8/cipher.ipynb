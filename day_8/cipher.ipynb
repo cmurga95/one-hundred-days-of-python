{
 "cells": [
  {
   "cell_type": "code",
   "execution_count": 3,
   "metadata": {},
   "outputs": [],
   "source": [
    "lower_letters = ['a', 'b', 'c', 'd', 'e', 'f', 'g', 'h', 'i', 'j', 'k', 'l', 'm', 'n', 'o', 'p', 'q', 'r', 's', 't', 'u', 'v', 'w', 'x', 'y', 'z', ' ']\n",
    "upper_letters = ['A', 'B', 'C', 'D', 'E', 'F', 'G', 'H', 'I', 'J', 'K', 'L', 'M', 'O', 'P', 'Q', 'R', 'S', 'T', 'U', 'V', 'W', 'X', 'Y', 'Z']"
   ]
  },
  {
   "cell_type": "code",
   "execution_count": 91,
   "metadata": {},
   "outputs": [],
   "source": [
    "def encrypt(message, shift):\n",
    "    position_list = []\n",
    "    cipher_text = ''\n",
    "    for letter in message:\n",
    "        if letter in lower_letters:\n",
    "            letter_index = lower_letters.index(letter)\n",
    "\n",
    "            encoded_index = letter_index+shift\n",
    "\n",
    "            if encoded_index > len(lower_letters) - 1:\n",
    "                encoded_index = encoded_index - len(lower_letters)\n",
    "                encoded_letter = lower_letters[encoded_index]\n",
    "            else:\n",
    "                encoded_letter = lower_letters[encoded_index]\n",
    "        else:\n",
    "            cipher_text += letter\n",
    "        cipher_text += encoded_letter\n",
    "        \n",
    "\n",
    "\n",
    "    print(f'Encoded text is {cipher_text}.')"
   ]
  },
  {
   "cell_type": "code",
   "execution_count": 92,
   "metadata": {},
   "outputs": [
    {
     "name": "stdout",
     "output_type": "stream",
     "text": [
      "Encoded text is rovvy.\n"
     ]
    }
   ],
   "source": [
    "message = input('Enter the message:').lower()\n",
    "shift = int(input('Type the shift number'))\n",
    "encrypt(message, shift)"
   ]
  },
  {
   "cell_type": "code",
   "execution_count": 93,
   "metadata": {},
   "outputs": [],
   "source": [
    "def decrypt(message, shift):\n",
    "    position_list = []\n",
    "    plain_text = ''\n",
    "    for letter in message:\n",
    "        if letter in lower_letters:\n",
    "            letter_index = lower_letters.index(letter)\n",
    "            position_list.append(letter_index)\n",
    "\n",
    "            encoded_index = letter_index - shift\n",
    "\n",
    "            encoded_letter = lower_letters[encoded_index]\n",
    "        else:\n",
    "            plain_text += letter\n",
    "        plain_text += encoded_letter\n",
    "\n",
    "\n",
    "    print(f'Decoded text is {plain_text}.')"
   ]
  },
  {
   "cell_type": "code",
   "execution_count": 94,
   "metadata": {},
   "outputs": [
    {
     "name": "stdout",
     "output_type": "stream",
     "text": [
      "Decoded text is hello.\n"
     ]
    }
   ],
   "source": [
    "message = input('Enter the message:').lower()\n",
    "shift = int(input('Type the shift number'))\n",
    "decrypt(message, shift)"
   ]
  },
  {
   "cell_type": "code",
   "execution_count": 46,
   "metadata": {},
   "outputs": [
    {
     "name": "stdout",
     "output_type": "stream",
     "text": [
      "Decoded text is hey que pedo pinche perro salvaje.\n"
     ]
    }
   ],
   "source": [
    "direction = input(\"Type 'encode' to encrypt, type 'decode' to decrypt:\\n\")\n",
    "message = input('Enter the message:').lower()\n",
    "shift = int(input('Type the shift number'))\n",
    "\n",
    "if direction == 'encode':\n",
    "    encrypt(message, shift)\n",
    "elif direction == 'decode':\n",
    "    decrypt(message, shift)\n"
   ]
  },
  {
   "cell_type": "code",
   "execution_count": 59,
   "metadata": {},
   "outputs": [],
   "source": [
    "def caesar(start_text, shift_amount, cipher_direction):\n",
    "    end_text = \"\"\n",
    "    if cipher_direction == 'encode':\n",
    "        encrypt(message = start_text, shift = shift_amount)\n",
    "    elif cipher_direction == 'decode':\n",
    "        decrypt(message = start_text, shift = shift_amount)"
   ]
  },
  {
   "cell_type": "code",
   "execution_count": 76,
   "metadata": {},
   "outputs": [
    {
     "name": "stdout",
     "output_type": "stream",
     "text": [
      "Decoded text is queapedoasalvaje.\n"
     ]
    }
   ],
   "source": [
    "direction = input(\"Type 'encode' to encrypt, type 'decode' to decrypt:\\n\")\n",
    "message = input('Enter the message:').lower()\n",
    "shift = int(input('Type the shift number'))\n",
    "\n",
    "caesar(message, shift, direction)"
   ]
  }
 ],
 "metadata": {
  "kernelspec": {
   "display_name": "Python 3",
   "language": "python",
   "name": "python3"
  },
  "language_info": {
   "codemirror_mode": {
    "name": "ipython",
    "version": 3
   },
   "file_extension": ".py",
   "mimetype": "text/x-python",
   "name": "python",
   "nbconvert_exporter": "python",
   "pygments_lexer": "ipython3",
   "version": "3.11.7"
  }
 },
 "nbformat": 4,
 "nbformat_minor": 2
}
