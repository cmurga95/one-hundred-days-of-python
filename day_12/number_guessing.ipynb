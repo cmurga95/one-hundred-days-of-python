{
 "cells": [
  {
   "cell_type": "code",
   "execution_count": 48,
   "metadata": {},
   "outputs": [],
   "source": [
    "def difficulty(d):\n",
    "    if d == 'hard':\n",
    "        attempts = 5\n",
    "    elif d == 'easy':\n",
    "        attempts = 10\n",
    "    return attempts\n",
    "\n",
    "def evaluate(number, guess, attempts):\n",
    "    if guess > number:\n",
    "        attempts -=1\n",
    "        print(f\"You guessed {guess}\")\n",
    "        print(\"Too high, guess again.\")\n",
    "        print(f\"You have {attempts} attempts.\")\n",
    "        return number, guess, attempts\n",
    "    \n",
    "    if guess < number:\n",
    "        attempts -=1\n",
    "        print(f\"You guessed {guess}\")\n",
    "        print(\"Too low, guess again.\")\n",
    "        print(f\"You have {attempts} attempts.\")\n",
    "        return number, guess, attempts\n",
    "    \n",
    "    if guess == number:\n",
    "        print(f\"You guessed {guess}\")\n",
    "        print (\"You win!\")\n",
    "        attempts = 100\n",
    "        return number, guess, attempts"
   ]
  },
  {
   "cell_type": "code",
   "execution_count": 47,
   "metadata": {},
   "outputs": [
    {
     "name": "stdout",
     "output_type": "stream",
     "text": [
      "Welcome to the Number Guessing Game!\n",
      "I am thinking of a number between 1 and 100\n",
      "You have 10 attempts.\n",
      "Too high, guess again.\n",
      "You have 9 attempts.\n",
      "You guessed 70\n",
      "Too high, guess again.\n",
      "You have 8 attempts.\n",
      "You guessed 65\n",
      "Too high, guess again.\n",
      "You have 7 attempts.\n",
      "You guessed 60\n",
      "Too high, guess again.\n",
      "You have 6 attempts.\n",
      "You guessed 40\n",
      "Too high, guess again.\n",
      "You have 5 attempts.\n",
      "You guessed 35\n",
      "Too high, guess again.\n",
      "You have 4 attempts.\n",
      "You guessed 25\n",
      "Too high, guess again.\n",
      "You have 3 attempts.\n",
      "You guessed 15\n",
      "Too low, guess again.\n",
      "You have 2 attempts.\n",
      "You guessed 5\n",
      "Too low, guess again.\n",
      "You have 1 attempts.\n",
      "You guessed 7\n",
      "Too low, guess again.\n",
      "You have 0 attempts.\n",
      "You guessed 10\n",
      "Game over\n"
     ]
    }
   ],
   "source": [
    "print(\"Welcome to the Number Guessing Game!\")\n",
    "print(\"I am thinking of a number between 1 and 100\")\n",
    "\n",
    "import numpy as np\n",
    "\n",
    "number = int(np.random.randint(1,100))\n",
    "\n",
    "difficulty_choice = input(\"Choose a difficulty. Type 'easy' or 'hard'.\")\n",
    "\n",
    "attempts = 0\n",
    "game_on = True\n",
    "attempts = int(difficulty(difficulty_choice))\n",
    "print(f\"You have {attempts} attempts.\")\n",
    "\n",
    "while game_on == True:\n",
    "    guess = int(input(\"Make a guess:\"))\n",
    "    number, guess, attempts = evaluate(number, guess, attempts)\n",
    "    \n",
    "\n",
    "    if attempts == 0:\n",
    "        print(\"Game over\")\n",
    "        game_on = False\n",
    "    elif attempts == 100:\n",
    "        game_on = False"
   ]
  }
 ],
 "metadata": {
  "kernelspec": {
   "display_name": "Python 3",
   "language": "python",
   "name": "python3"
  },
  "language_info": {
   "codemirror_mode": {
    "name": "ipython",
    "version": 3
   },
   "file_extension": ".py",
   "mimetype": "text/x-python",
   "name": "python",
   "nbconvert_exporter": "python",
   "pygments_lexer": "ipython3",
   "version": "3.11.7"
  }
 },
 "nbformat": 4,
 "nbformat_minor": 2
}
