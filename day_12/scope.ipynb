{
 "cells": [
  {
   "cell_type": "markdown",
   "metadata": {},
   "source": [
    "if you create a variable withing a function, it's only available inside the function.\n",
    "\n",
    "if, for or while loops that does not count as local scope\n",
    "\n",
    "if you create a variable outside the function this should be available everywhere."
   ]
  },
  {
   "cell_type": "markdown",
   "metadata": {},
   "source": [
    "dont modify global scope within a function"
   ]
  },
  {
   "cell_type": "code",
   "execution_count": 3,
   "metadata": {},
   "outputs": [
    {
     "name": "stdout",
     "output_type": "stream",
     "text": [
      "1\n",
      "2\n"
     ]
    }
   ],
   "source": [
    "enemies = 1\n",
    "print(enemies)\n",
    "def increase_enemies():\n",
    "    return enemies + 1\n",
    "\n",
    "enemies = increase_enemies()\n",
    "\n",
    "print(enemies)"
   ]
  },
  {
   "cell_type": "code",
   "execution_count": 7,
   "metadata": {},
   "outputs": [
    {
     "name": "stdout",
     "output_type": "stream",
     "text": [
      "3.14159\n"
     ]
    }
   ],
   "source": [
    "PI = 3.14159\n",
    "\n",
    "TWITTER_HANDLE = \"\"\n",
    "# upper case separated with underscores \n",
    "# these functions are GLOBAL and shouldn't be modified inside classes or functions\n",
    "\n",
    "def pi():\n",
    "    print(PI)\n",
    "\n",
    "pi()"
   ]
  },
  {
   "cell_type": "code",
   "execution_count": null,
   "metadata": {},
   "outputs": [],
   "source": []
  }
 ],
 "metadata": {
  "kernelspec": {
   "display_name": "Python 3",
   "language": "python",
   "name": "python3"
  },
  "language_info": {
   "codemirror_mode": {
    "name": "ipython",
    "version": 3
   },
   "file_extension": ".py",
   "mimetype": "text/x-python",
   "name": "python",
   "nbconvert_exporter": "python",
   "pygments_lexer": "ipython3",
   "version": "3.11.7"
  }
 },
 "nbformat": 4,
 "nbformat_minor": 2
}
