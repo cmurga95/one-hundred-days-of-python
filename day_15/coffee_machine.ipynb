{
 "cells": [
  {
   "cell_type": "code",
   "execution_count": 50,
   "metadata": {},
   "outputs": [],
   "source": [
    "MENU = {\n",
    "    \"espresso\": {\n",
    "        \"ingredients\": {\n",
    "            \"water\": 50,\n",
    "            \"coffee\": 18,\n",
    "        },\n",
    "        \"cost\": 1.5,\n",
    "    },\n",
    "    \"latte\": {\n",
    "        \"ingredients\": {\n",
    "            \"water\": 200,\n",
    "            \"milk\": 150,\n",
    "            \"coffee\": 24,\n",
    "        },\n",
    "        \"cost\": 2.5,\n",
    "    },\n",
    "    \"cappuccino\": {\n",
    "        \"ingredients\": {\n",
    "            \"water\": 250,\n",
    "            \"milk\": 100,\n",
    "            \"coffee\": 24,\n",
    "        },\n",
    "        \"cost\": 3.0,\n",
    "    }\n",
    "}\n"
   ]
  },
  {
   "cell_type": "code",
   "execution_count": 8,
   "metadata": {},
   "outputs": [],
   "source": [
    "espresso, latte, cappuccino, ingredients, cost = 'espresso', 'latte', 'cappuccino', 'ingredients', 'cost'"
   ]
  },
  {
   "cell_type": "code",
   "execution_count": 69,
   "metadata": {},
   "outputs": [],
   "source": [
    "profit = 0\n",
    "resources = {\n",
    "    \"water\": 300,\n",
    "    \"milk\": 200,\n",
    "    \"coffee\": 100,\n",
    "}\n",
    "\n",
    "def req_(request):\n",
    "\n",
    "    choice = MENU[request]\n",
    "\n",
    "    if request == 'espresso':\n",
    "        milk = 0\n",
    "    else:\n",
    "        milk = MENU[request]['ingredients']['milk']\n",
    "\n",
    "    water = MENU[request]['ingredients']['water']\n",
    "\n",
    "    coffee = MENU[request]['ingredients']['coffee']\n",
    "\n",
    "    cost = MENU[request]['cost']\n",
    "\n",
    "    return water, milk, coffee, cost\n",
    "\n",
    "def is_enough_resource(request_ingredients):\n",
    "    for item in request_ingredients:\n",
    "        if request_ingredients[item] > resources[item]:\n",
    "            print(f\"Sorry there is not enough {item}.\")\n",
    "            return False\n",
    "    return True\n",
    "\n",
    "def make_coffee(drink_name, request_ingredients):\n",
    "    for item in request_ingredients:\n",
    "        resources[item] -= request_ingredients[item]\n",
    "    print(f\"Here is your {drink_name}. Enjoy!\")\n",
    "\n",
    "def process_coins():\n",
    "    '''\n",
    "    Returns the total calculated from the coins inserted.\n",
    "    '''\n",
    "    total = int(input(\"how many quarters?: \")) * 0.25\n",
    "    total += int(input(\"how many dimes?: \")) * 0.1\n",
    "    total += int(input(\"how many nickles?: \")) * 0.05\n",
    "    total += int(input(\"how many pennies?: \")) * 0.01\n",
    "    return total\n",
    "\n",
    "def is_transaction_successful(_money, _drink):\n",
    "    if _money >= _drink:\n",
    "        change = round(_money - _drink, 2)\n",
    "        print(f\"Here is ${change}\")\n",
    "        global profit \n",
    "        profit += _drink\n",
    "        return True\n",
    "    else:\n",
    "        print(\"Not enough money, money refunded.\")\n",
    "        return False\n"
   ]
  },
  {
   "cell_type": "code",
   "execution_count": 70,
   "metadata": {},
   "outputs": [
    {
     "name": "stdout",
     "output_type": "stream",
     "text": [
      "Here is $0.1\n",
      "Here is your latte. Enjoy!\n",
      "Sorry there is not enough water.\n",
      "Sorry there is not enough water.\n"
     ]
    },
    {
     "ename": "ValueError",
     "evalue": "invalid literal for int() with base 10: 'end'",
     "output_type": "error",
     "traceback": [
      "\u001b[1;31m---------------------------------------------------------------------------\u001b[0m",
      "\u001b[1;31mValueError\u001b[0m                                Traceback (most recent call last)",
      "Cell \u001b[1;32mIn[70], line 25\u001b[0m\n\u001b[0;32m     22\u001b[0m water, milk, coffee, cost \u001b[38;5;241m=\u001b[39m req_(request)\n\u001b[0;32m     24\u001b[0m \u001b[38;5;28;01mif\u001b[39;00m is_enough_resource(drink[\u001b[38;5;124m'\u001b[39m\u001b[38;5;124mingredients\u001b[39m\u001b[38;5;124m'\u001b[39m]):\n\u001b[1;32m---> 25\u001b[0m     payment \u001b[38;5;241m=\u001b[39m \u001b[43mprocess_coins\u001b[49m\u001b[43m(\u001b[49m\u001b[43m)\u001b[49m\n\u001b[0;32m     26\u001b[0m     \u001b[38;5;28;01mif\u001b[39;00m is_transaction_successful(payment, drink[\u001b[38;5;124m'\u001b[39m\u001b[38;5;124mcost\u001b[39m\u001b[38;5;124m'\u001b[39m]):\n\u001b[0;32m     27\u001b[0m         make_coffee(request, drink[\u001b[38;5;124m'\u001b[39m\u001b[38;5;124mingredients\u001b[39m\u001b[38;5;124m'\u001b[39m])\n",
      "Cell \u001b[1;32mIn[69], line 41\u001b[0m, in \u001b[0;36mprocess_coins\u001b[1;34m()\u001b[0m\n\u001b[0;32m     37\u001b[0m \u001b[38;5;28;01mdef\u001b[39;00m \u001b[38;5;21mprocess_coins\u001b[39m():\n\u001b[0;32m     38\u001b[0m \u001b[38;5;250m    \u001b[39m\u001b[38;5;124;03m'''\u001b[39;00m\n\u001b[0;32m     39\u001b[0m \u001b[38;5;124;03m    Returns the total calculated from the coins inserted.\u001b[39;00m\n\u001b[0;32m     40\u001b[0m \u001b[38;5;124;03m    '''\u001b[39;00m\n\u001b[1;32m---> 41\u001b[0m     total \u001b[38;5;241m=\u001b[39m \u001b[38;5;28;43mint\u001b[39;49m\u001b[43m(\u001b[49m\u001b[38;5;28;43minput\u001b[39;49m\u001b[43m(\u001b[49m\u001b[38;5;124;43m\"\u001b[39;49m\u001b[38;5;124;43mhow many quarters?: \u001b[39;49m\u001b[38;5;124;43m\"\u001b[39;49m\u001b[43m)\u001b[49m\u001b[43m)\u001b[49m \u001b[38;5;241m*\u001b[39m \u001b[38;5;241m0.25\u001b[39m\n\u001b[0;32m     42\u001b[0m     total \u001b[38;5;241m+\u001b[39m\u001b[38;5;241m=\u001b[39m \u001b[38;5;28mint\u001b[39m(\u001b[38;5;28minput\u001b[39m(\u001b[38;5;124m\"\u001b[39m\u001b[38;5;124mhow many dimes?: \u001b[39m\u001b[38;5;124m\"\u001b[39m)) \u001b[38;5;241m*\u001b[39m \u001b[38;5;241m0.1\u001b[39m\n\u001b[0;32m     43\u001b[0m     total \u001b[38;5;241m+\u001b[39m\u001b[38;5;241m=\u001b[39m \u001b[38;5;28mint\u001b[39m(\u001b[38;5;28minput\u001b[39m(\u001b[38;5;124m\"\u001b[39m\u001b[38;5;124mhow many nickles?: \u001b[39m\u001b[38;5;124m\"\u001b[39m)) \u001b[38;5;241m*\u001b[39m \u001b[38;5;241m0.05\u001b[39m\n",
      "\u001b[1;31mValueError\u001b[0m: invalid literal for int() with base 10: 'end'"
     ]
    }
   ],
   "source": [
    "resources = {\n",
    "    \"water\": 300,\n",
    "    \"milk\": 200,\n",
    "    \"coffee\": 100,\n",
    "}\n",
    "\n",
    "program_on = True\n",
    "\n",
    "\n",
    "while program_on:\n",
    "\n",
    "    request = input(\"What would you like? (espresso/latte/cappuccino)\")\n",
    "\n",
    "    if request == 'report':\n",
    "        print(resources['water'], resources['milk'], resources['coffee'], cash)\n",
    "\n",
    "    elif request == 'end':\n",
    "        program_on = False\n",
    "\n",
    "    else:\n",
    "        drink = MENU[request]\n",
    "        water, milk, coffee, cost = req_(request)\n",
    "\n",
    "        if is_enough_resource(drink['ingredients']):\n",
    "            payment = process_coins()\n",
    "            if is_transaction_successful(payment, drink['cost']):\n",
    "                make_coffee(request, drink['ingredients'])"
   ]
  }
 ],
 "metadata": {
  "kernelspec": {
   "display_name": "Python 3",
   "language": "python",
   "name": "python3"
  },
  "language_info": {
   "codemirror_mode": {
    "name": "ipython",
    "version": 3
   },
   "file_extension": ".py",
   "mimetype": "text/x-python",
   "name": "python",
   "nbconvert_exporter": "python",
   "pygments_lexer": "ipython3",
   "version": "3.11.7"
  }
 },
 "nbformat": 4,
 "nbformat_minor": 2
}
