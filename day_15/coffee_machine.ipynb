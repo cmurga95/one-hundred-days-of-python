{
 "cells": [
  {
   "cell_type": "code",
   "execution_count": 1,
   "metadata": {},
   "outputs": [],
   "source": [
    "MENU = {\n",
    "    \"espresso\": {\n",
    "        \"ingredients\": {\n",
    "            \"water\": 50,\n",
    "            \"coffee\": 18,\n",
    "        },\n",
    "        \"cost\": 1.5,\n",
    "    },\n",
    "    \"latte\": {\n",
    "        \"ingredients\": {\n",
    "            \"water\": 200,\n",
    "            \"milk\": 150,\n",
    "            \"coffee\": 24,\n",
    "        },\n",
    "        \"cost\": 2.5,\n",
    "    },\n",
    "    \"cappuccino\": {\n",
    "        \"ingredients\": {\n",
    "            \"water\": 250,\n",
    "            \"milk\": 100,\n",
    "            \"coffee\": 24,\n",
    "        },\n",
    "        \"cost\": 3.0,\n",
    "    }\n",
    "}\n",
    "\n",
    "resources = {\n",
    "    \"water\": 300,\n",
    "    \"milk\": 200,\n",
    "    \"coffee\": 100,\n",
    "}"
   ]
  },
  {
   "cell_type": "code",
   "execution_count": 8,
   "metadata": {},
   "outputs": [],
   "source": [
    "espresso, latte, cappuccino, ingredients, cost = 'espresso', 'latte', 'cappuccino', 'ingredients', 'cost'"
   ]
  },
  {
   "cell_type": "code",
   "execution_count": 43,
   "metadata": {},
   "outputs": [],
   "source": [
    "request = input(\"What would you like? (espresso/latte/cappuccino)\")\n",
    "\n",
    "def req_(request):\n",
    "    if request == 'report':\n",
    "        return f\"Water: {resources['water']}\",f\"Milk: {resources['milk']}\",f\"Coffee: {resources['coffee']}\"\n",
    "    else:\n",
    "        MENU[request][ingredients]\n",
    "        \n",
    "\n",
    "        if request == 'espresso':\n",
    "            milk = 0\n",
    "        else:\n",
    "            milk = MENU[request]['ingredients']['milk']\n",
    "\n",
    "        water = MENU[request]['ingredients']['water']\n",
    "        \n",
    "        coffee = MENU[request]['ingredients']['coffee']\n",
    "\n",
    "        cost = MENU[request]['cost']\n",
    "\n",
    "    return water, milk, coffee, cost"
   ]
  },
  {
   "cell_type": "code",
   "execution_count": 49,
   "metadata": {},
   "outputs": [],
   "source": [
    "water, milk, coffee, cost = req_(request)"
   ]
  }
 ],
 "metadata": {
  "kernelspec": {
   "display_name": "Python 3",
   "language": "python",
   "name": "python3"
  },
  "language_info": {
   "codemirror_mode": {
    "name": "ipython",
    "version": 3
   },
   "file_extension": ".py",
   "mimetype": "text/x-python",
   "name": "python",
   "nbconvert_exporter": "python",
   "pygments_lexer": "ipython3",
   "version": "3.11.7"
  }
 },
 "nbformat": 4,
 "nbformat_minor": 2
}
