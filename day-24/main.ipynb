{
 "cells": [
  {
   "cell_type": "code",
   "execution_count": 44,
   "metadata": {},
   "outputs": [],
   "source": [
    "with open(r\"Mail Merge Project Start\\Input\\Names\\invited_names.txt\", mode = \"r\") as names:\n",
    "    namesList = names.readlines()"
   ]
  },
  {
   "cell_type": "code",
   "execution_count": 18,
   "metadata": {},
   "outputs": [],
   "source": [
    "with open(r\"Mail Merge Project Start\\Input\\Letters\\starting_letter.txt\", mode = \"r\") as letter:\n",
    "    letter = letter.read()"
   ]
  },
  {
   "cell_type": "code",
   "execution_count": 67,
   "metadata": {},
   "outputs": [
    {
     "data": {
      "text/plain": [
       "'Dear Zuko\\n,\\n\\nYou are invited to my birthday this Saturday.\\n\\nHope you can make it!\\n\\nAngela\\n'"
      ]
     },
     "execution_count": 67,
     "metadata": {},
     "output_type": "execute_result"
    }
   ],
   "source": [
    "letter.replace(\"[name]\", namesList[1], 1)"
   ]
  },
  {
   "cell_type": "code",
   "execution_count": 74,
   "metadata": {},
   "outputs": [],
   "source": [
    "namesList_2 = []\n",
    "for name in namesList:\n",
    "    new = name.replace(\"\\n\", \"\")\n",
    "    namesList_2.append(new)"
   ]
  },
  {
   "cell_type": "code",
   "execution_count": 78,
   "metadata": {},
   "outputs": [
    {
     "data": {
      "text/plain": [
       "7"
      ]
     },
     "execution_count": 78,
     "metadata": {},
     "output_type": "execute_result"
    }
   ],
   "source": [
    "len(namesList)-1"
   ]
  },
  {
   "cell_type": "code",
   "execution_count": 82,
   "metadata": {},
   "outputs": [],
   "source": [
    "for i in range(len(namesList)-1):\n",
    "    with open(rf\"Mail Merge Project Start\\Output\\ReadyToSend\\{namesList_2[i]}.txt\",mode = \"w\") as new_letter:\n",
    "        l = letter.replace(\"[name]\", namesList_2[i])\n",
    "        new_letter.write(l)"
   ]
  }
 ],
 "metadata": {
  "kernelspec": {
   "display_name": "Python 3",
   "language": "python",
   "name": "python3"
  },
  "language_info": {
   "codemirror_mode": {
    "name": "ipython",
    "version": 3
   },
   "file_extension": ".py",
   "mimetype": "text/x-python",
   "name": "python",
   "nbconvert_exporter": "python",
   "pygments_lexer": "ipython3",
   "version": "3.11.7"
  }
 },
 "nbformat": 4,
 "nbformat_minor": 2
}
