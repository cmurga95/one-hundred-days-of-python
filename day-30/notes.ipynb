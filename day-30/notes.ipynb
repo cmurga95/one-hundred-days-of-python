{
 "cells": [
  {
   "cell_type": "markdown",
   "metadata": {},
   "source": [
    "write json \n",
    "json.dump()\n",
    "\n",
    "read\n",
    "json.load()\n",
    "\n",
    "update\n",
    "json.update()"
   ]
  },
  {
   "cell_type": "markdown",
   "metadata": {},
   "source": []
  },
  {
   "cell_type": "markdown",
   "metadata": {},
   "source": []
  }
 ],
 "metadata": {
  "language_info": {
   "name": "python"
  }
 },
 "nbformat": 4,
 "nbformat_minor": 2
}
