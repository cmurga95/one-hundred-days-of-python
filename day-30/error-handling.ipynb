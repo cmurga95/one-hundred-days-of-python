{
 "cells": [
  {
   "cell_type": "markdown",
   "metadata": {},
   "source": [
    "try: something that might cause an exception\n",
    "\n",
    "except: do this if there WAS an exception\n",
    "\n",
    "else: DO THIS IF there no exceptions\n",
    "\n",
    "finally: do this no matter what happens"
   ]
  }
 ],
 "metadata": {
  "language_info": {
   "name": "python"
  }
 },
 "nbformat": 4,
 "nbformat_minor": 2
}
