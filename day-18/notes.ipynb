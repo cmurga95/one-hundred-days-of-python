{
 "cells": [
  {
   "cell_type": "code",
   "execution_count": 22,
   "metadata": {},
   "outputs": [],
   "source": [
    "import colorgram\n",
    "\n",
    "colors = colorgram.extract('img1.jpg', 10)\n",
    "\n",
    "colorsList = []\n",
    "\n",
    "for color in colors:\n",
    "    r = color.rgb.r\n",
    "    g = color.rgb.g\n",
    "    b = color.rgb.b\n",
    "    new_color = (r,g,b)\n",
    "    colorsList.append(new_color)"
   ]
  },
  {
   "cell_type": "code",
   "execution_count": 23,
   "metadata": {},
   "outputs": [
    {
     "data": {
      "text/plain": [
       "[(226, 226, 225),\n",
       " (236, 236, 239),\n",
       " (182, 65, 34),\n",
       " (213, 149, 97),\n",
       " (14, 24, 42),\n",
       " (230, 237, 233),\n",
       " (239, 208, 94),\n",
       " (241, 234, 238),\n",
       " (237, 62, 33),\n",
       " (157, 26, 19)]"
      ]
     },
     "execution_count": 23,
     "metadata": {},
     "output_type": "execute_result"
    }
   ],
   "source": [
    "colorsList"
   ]
  },
  {
   "cell_type": "code",
   "execution_count": 35,
   "metadata": {},
   "outputs": [],
   "source": [
    "import colorgram\n",
    "\n",
    "colors = colorgram.extract('img1.jpg', 10)\n",
    "\n",
    "colorsList = []\n",
    "\n",
    "for color in colors:\n",
    "    r = color.rgb.r\n",
    "    g = color.rgb.g\n",
    "    b = color.rgb.b\n",
    "    new_color = (r,g,b)\n",
    "    colorsList.append(new_color)\n",
    "\n"
   ]
  },
  {
   "cell_type": "code",
   "execution_count": 36,
   "metadata": {},
   "outputs": [
    {
     "data": {
      "text/plain": [
       "[(226, 226, 225),\n",
       " (236, 236, 239),\n",
       " (182, 65, 34),\n",
       " (213, 149, 97),\n",
       " (14, 24, 42),\n",
       " (230, 237, 233),\n",
       " (239, 208, 94),\n",
       " (241, 234, 238),\n",
       " (237, 62, 33),\n",
       " (157, 26, 19)]"
      ]
     },
     "execution_count": 36,
     "metadata": {},
     "output_type": "execute_result"
    }
   ],
   "source": [
    "colorsList"
   ]
  },
  {
   "cell_type": "code",
   "execution_count": 38,
   "metadata": {},
   "outputs": [
    {
     "data": {
      "text/plain": [
       "(237, 62, 33)"
      ]
     },
     "execution_count": 38,
     "metadata": {},
     "output_type": "execute_result"
    },
    {
     "ename": "",
     "evalue": "",
     "output_type": "error",
     "traceback": [
      "\u001b[1;31mThe Kernel crashed while executing code in the the current cell or a previous cell. Please review the code in the cell(s) to identify a possible cause of the failure. Click <a href='https://aka.ms/vscodeJupyterKernelCrash'>here</a> for more info. View Jupyter <a href='command:jupyter.viewOutput'>log</a> for further details."
     ]
    }
   ],
   "source": [
    "import random\n",
    "\n",
    "def pick_random_color(colorlist):\n",
    "    return random.choice(colorlist)\n",
    "\n",
    "\n",
    "\n",
    "pick_random_color(colorsList)"
   ]
  }
 ],
 "metadata": {
  "kernelspec": {
   "display_name": "env_ds",
   "language": "python",
   "name": "python3"
  },
  "language_info": {
   "codemirror_mode": {
    "name": "ipython",
    "version": 3
   },
   "file_extension": ".py",
   "mimetype": "text/x-python",
   "name": "python",
   "nbconvert_exporter": "python",
   "pygments_lexer": "ipython3",
   "version": "3.9.18"
  }
 },
 "nbformat": 4,
 "nbformat_minor": 2
}
