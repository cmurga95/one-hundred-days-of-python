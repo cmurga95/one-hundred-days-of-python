{
 "cells": [
  {
   "cell_type": "markdown",
   "metadata": {},
   "source": [
    "Procedural programming. </br>\n",
    "Jumping back and fort through functions. This can get very confusing as the program becomes more complex </br>\n",
    "\n",
    "OOP - Object Oriented Programming </br>\n",
    "Splitting tasks into modules </br>\n",
    "\n",
    "Modules can be reusable. </br>\n",
    "\n",
    "What is object oriented programming? </br>\n",
    "Separating tasks into pieces -> OOP takes this concept further. What is ONE MAN RESTAURANT? Wow. </br>\n",
    "\n",
    "Hiring different people that knows how to do what they do (chef, waiter and cleaner for example). And we could be the manager. People that know how to do what they do are the modules, we are the managers. </br>"
   ]
  },
  {
   "cell_type": "markdown",
   "metadata": {},
   "source": [
    "## How to implement OOP?\n",
    "\n",
    "Its called like that because its trying to model a real life object.\n",
    "\n",
    "For example, modeling a waiter:\n",
    "- What it has and what it does.\n",
    "- What it has: (attributes)\n",
    "is_hold_plate = True, tables_responsible = [4,5,6]\n",
    "- What it does: (methods or functions)\n",
    "\n",
    "-     def take_order(table, order):\n",
    "\n",
    "-     #takes order to chef\n",
    "\n",
    "-     def take_payment(amount):\n",
    "\n",
    "-     #add money to restaurant"
   ]
  },
  {
   "cell_type": "markdown",
   "metadata": {},
   "source": [
    "Individual objects from the same blueprint (class). The Individual objects from a blue print are called objects.\n",
    "\n",
    "Model of a real life Car would be a Class \n",
    "\n",
    "car = CarBlueprint() -> this would be a class (pascal case)\n",
    "\n",
    "this is to differentiate from variables and function, where each word is separated by underscore \n",
    "\n",
    "in this case car would be the object"
   ]
  },
  {
   "cell_type": "code",
   "execution_count": null,
   "metadata": {
    "vscode": {
     "languageId": "plaintext"
    }
   },
   "outputs": [],
   "source": []
  }
 ],
 "metadata": {
  "language_info": {
   "name": "python"
  }
 },
 "nbformat": 4,
 "nbformat_minor": 2
}
