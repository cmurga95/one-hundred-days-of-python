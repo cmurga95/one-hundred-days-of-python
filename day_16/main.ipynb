{
 "cells": [
  {
   "cell_type": "code",
   "execution_count": 22,
   "metadata": {},
   "outputs": [],
   "source": [
    "from menu import Menu, MenuItem\n",
    "from coffee_maker import CoffeeMaker\n",
    "from money_machine import MoneyMachine\n",
    "\n",
    "menu = Menu()\n",
    "\n",
    "coffee_maker = CoffeeMaker()\n",
    "\n",
    "money_machine = MoneyMachine()\n",
    "\n"
   ]
  },
  {
   "cell_type": "code",
   "execution_count": 29,
   "metadata": {},
   "outputs": [
    {
     "data": {
      "text/plain": [
       "'latte/espresso/cappuccino/'"
      ]
     },
     "execution_count": 29,
     "metadata": {},
     "output_type": "execute_result"
    }
   ],
   "source": [
    "menu.get_items()"
   ]
  },
  {
   "cell_type": "code",
   "execution_count": 41,
   "metadata": {},
   "outputs": [
    {
     "name": "stdout",
     "output_type": "stream",
     "text": [
      "Please insert coins.\n",
      "Here is $7.75 in change.\n",
      "Here is your latte ☕️. Enjoy!\n",
      "Water: 100ml\n",
      "Milk: 50ml\n",
      "Coffee: 76g\n",
      "Money: $10.0\n",
      "Please insert coins.\n",
      "Here is $8.75 in change.\n",
      "Here is your espresso ☕️. Enjoy!\n",
      "Water: 50ml\n",
      "Milk: 50ml\n",
      "Coffee: 58g\n",
      "Money: $11.5\n",
      "Water: 50ml\n",
      "Milk: 50ml\n",
      "Coffee: 58g\n",
      "Money: $11.5\n",
      "Water: 50ml\n",
      "Milk: 50ml\n",
      "Coffee: 58g\n",
      "Money: $11.5\n"
     ]
    }
   ],
   "source": [
    "is_on = True\n",
    "while is_on:\n",
    "    options = menu.get_items()\n",
    "\n",
    "    choice = input(f\"What would you like? ({options})\")\n",
    "\n",
    "    if choice == 'off':\n",
    "        is_on = False\n",
    "    elif choice == 'report':\n",
    "        coffee_maker.report()\n",
    "        money_machine.report()\n",
    "\n",
    "    else:\n",
    "        drink = menu.find_drink(choice)\n",
    "        if coffee_maker.is_resource_sufficient(drink) and money_machine.make_payment(drink.cost):\n",
    "            coffee_maker.make_coffee(drink)"
   ]
  },
  {
   "cell_type": "code",
   "execution_count": 37,
   "metadata": {},
   "outputs": [
    {
     "data": {
      "text/plain": [
       "{'water': 250, 'milk': 50, 'coffee': 24}"
      ]
     },
     "execution_count": 37,
     "metadata": {},
     "output_type": "execute_result"
    }
   ],
   "source": [
    "drink.ingredients"
   ]
  }
 ],
 "metadata": {
  "kernelspec": {
   "display_name": "Python 3",
   "language": "python",
   "name": "python3"
  },
  "language_info": {
   "codemirror_mode": {
    "name": "ipython",
    "version": 3
   },
   "file_extension": ".py",
   "mimetype": "text/x-python",
   "name": "python",
   "nbconvert_exporter": "python",
   "pygments_lexer": "ipython3",
   "version": "3.11.7"
  }
 },
 "nbformat": 4,
 "nbformat_minor": 2
}
