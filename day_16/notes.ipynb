{
 "cells": [
  {
   "cell_type": "code",
   "execution_count": 2,
   "metadata": {},
   "outputs": [
    {
     "name": "stdout",
     "output_type": "stream",
     "text": [
      "12\n"
     ]
    }
   ],
   "source": [
    "import turtle\n",
    "import another_module\n",
    "\n",
    "print(another_module.another_variable)"
   ]
  },
  {
   "cell_type": "code",
   "execution_count": 1,
   "metadata": {},
   "outputs": [
    {
     "name": "stdout",
     "output_type": "stream",
     "text": [
      "300\n"
     ]
    },
    {
     "data": {
      "text/plain": [
       "'\\nIn the car object \\natributes could be:\\n- speed = 0 \\n- fuel = 32\\n\\ncar.speed\\n\\ncar object, speed atribute\\n\\n'"
      ]
     },
     "execution_count": 1,
     "metadata": {},
     "output_type": "execute_result"
    },
    {
     "ename": "",
     "evalue": "",
     "output_type": "error",
     "traceback": [
      "\u001b[1;31mThe Kernel crashed while executing code in the the current cell or a previous cell. Please review the code in the cell(s) to identify a possible cause of the failure. Click <a href='https://aka.ms/vscodeJupyterKernelCrash'>here</a> for more info. View Jupyter <a href='command:jupyter.viewOutput'>log</a> for further details."
     ]
    }
   ],
   "source": [
    "from turtle import Turtle, Screen\n",
    "\n",
    "#from turtle module import Turtle class\n",
    "\n",
    "\n",
    "# timmy = Turtle()\n",
    "\n",
    "my_screen = Screen()\n",
    "\n",
    "print(my_screen.canvheight)\n",
    "\n",
    "# print(timmy)\n",
    "\n",
    "#object attributes \n",
    "\n",
    "'''\n",
    "In the car object \n",
    "atributes could be:\n",
    "- speed = 0 \n",
    "- fuel = 32\n",
    "\n",
    "car.speed -> attributes doesnt have the ()\n",
    "\n",
    "car object, speed atribute\n",
    "\n",
    "'''"
   ]
  },
  {
   "cell_type": "code",
   "execution_count": null,
   "metadata": {},
   "outputs": [],
   "source": [
    "'''\n",
    "function associated to an object is called a method \n",
    "object.method() -> methods have the ()\n",
    "car.stop()\n",
    "\n",
    "'''"
   ]
  },
  {
   "cell_type": "code",
   "execution_count": 1,
   "metadata": {},
   "outputs": [
    {
     "name": "stdout",
     "output_type": "stream",
     "text": [
      "300\n"
     ]
    }
   ],
   "source": [
    "from turtle import Turtle, Screen\n",
    "\n",
    "my_screen = Screen()\n",
    "#timmy = Turtle()\n",
    "print(my_screen.canvheight)\n",
    "#print(timmy)\n",
    "\n",
    "my_screen.exitonclick()"
   ]
  }
 ],
 "metadata": {
  "kernelspec": {
   "display_name": "Python 3",
   "language": "python",
   "name": "python3"
  },
  "language_info": {
   "codemirror_mode": {
    "name": "ipython",
    "version": 3
   },
   "file_extension": ".py",
   "mimetype": "text/x-python",
   "name": "python",
   "nbconvert_exporter": "python",
   "pygments_lexer": "ipython3",
   "version": "3.11.7"
  }
 },
 "nbformat": 4,
 "nbformat_minor": 2
}
