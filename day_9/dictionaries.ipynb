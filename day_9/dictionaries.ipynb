{
 "cells": [
  {
   "cell_type": "code",
   "execution_count": 8,
   "metadata": {},
   "outputs": [
    {
     "name": "stdout",
     "output_type": "stream",
     "text": [
      "Bug An error in a program that...\n",
      "Function A piece of code that you can..\n",
      "Entry Another definition..\n"
     ]
    }
   ],
   "source": [
    "p_d = {\n",
    "    \"Bug\": \"An error in a program that...\",\n",
    "    \"Function\": \"A piece of code that you can..\",\n",
    "    \"Entry\": \"Another definition..\"\n",
    "}\n",
    "\n",
    "for key in p_d:\n",
    "    print(key, p_d[key])"
   ]
  },
  {
   "cell_type": "code",
   "execution_count": 6,
   "metadata": {},
   "outputs": [
    {
     "data": {
      "text/plain": [
       "'An error in a program that...'"
      ]
     },
     "execution_count": 6,
     "metadata": {},
     "output_type": "execute_result"
    }
   ],
   "source": [
    "p_d[\"Bug\"]"
   ]
  },
  {
   "cell_type": "code",
   "execution_count": 9,
   "metadata": {},
   "outputs": [],
   "source": [
    "p_d[\"Loop\"] = \"The action of doing something over and over again.\""
   ]
  },
  {
   "cell_type": "code",
   "execution_count": 10,
   "metadata": {},
   "outputs": [
    {
     "name": "stdout",
     "output_type": "stream",
     "text": [
      "{'Bug': 'An error in a program that...', 'Function': 'A piece of code that you can..', 'Entry': 'Another definition..', 'Loop': 'The action of doing something over and over again.'}\n"
     ]
    }
   ],
   "source": [
    "print(p_d)"
   ]
  },
  {
   "cell_type": "code",
   "execution_count": 11,
   "metadata": {},
   "outputs": [],
   "source": [
    "#create an empty dictionary\n",
    "empty_dictionary = {}\n",
    "\n",
    "#wipe a dictionary\n",
    "p_d = {}"
   ]
  },
  {
   "cell_type": "code",
   "execution_count": 15,
   "metadata": {},
   "outputs": [],
   "source": [
    "p_d[\"Bug\"] = \"A moth in your computer\""
   ]
  },
  {
   "cell_type": "code",
   "execution_count": 16,
   "metadata": {},
   "outputs": [
    {
     "data": {
      "text/plain": [
       "'A moth in your computer'"
      ]
     },
     "execution_count": 16,
     "metadata": {},
     "output_type": "execute_result"
    }
   ],
   "source": [
    "p_d['Bug']"
   ]
  },
  {
   "cell_type": "code",
   "execution_count": 18,
   "metadata": {},
   "outputs": [
    {
     "name": "stdout",
     "output_type": "stream",
     "text": [
      "Bug\n",
      "A moth in your computer\n",
      "Function\n",
      "A piece of code that you can..\n",
      "Entry\n",
      "Another definition..\n",
      "Loop\n",
      "The action of doing something over and over again.\n"
     ]
    }
   ],
   "source": [
    "#loop through a dictionary \n",
    "for key in p_d:\n",
    "    print(key)\n",
    "    print(p_d[key])"
   ]
  },
  {
   "cell_type": "code",
   "execution_count": 35,
   "metadata": {},
   "outputs": [],
   "source": [
    "{\n",
    "    \"France\":\"Paris\",\n",
    "    \"Germany\": \"Berlin\",\n",
    "}\n",
    "\n",
    "travel_log = {\n",
    "    \"France\": {\"cities_visited\": [\"Paris\", \"Lille\", \"Dijon\"],\n",
    "               \"total_visits\": 12,\n",
    "               \"total_left\": 15},\n",
    "    \"Germany\": {\"cities_visited\": [\"Berlin\", \"Hamburg\", \"Stuttgart\"],\n",
    "                \"total_visits\": 5,\n",
    "                \"total_left\": 16}\n",
    "}"
   ]
  },
  {
   "cell_type": "code",
   "execution_count": 23,
   "metadata": {},
   "outputs": [
    {
     "data": {
      "text/plain": [
       "['Paris', 'Lille', 'Dijon']"
      ]
     },
     "execution_count": 23,
     "metadata": {},
     "output_type": "execute_result"
    }
   ],
   "source": [
    "travel_log[\"France\"]"
   ]
  },
  {
   "cell_type": "code",
   "execution_count": 29,
   "metadata": {},
   "outputs": [
    {
     "data": {
      "text/plain": [
       "12"
      ]
     },
     "execution_count": 29,
     "metadata": {},
     "output_type": "execute_result"
    }
   ],
   "source": [
    "travel_log[\"France\"][\"total_visits\"]"
   ]
  },
  {
   "cell_type": "code",
   "execution_count": 37,
   "metadata": {},
   "outputs": [
    {
     "data": {
      "text/plain": [
       "[{'country': 'France',\n",
       "  'cities_visited': ['Paris', 'Lille', 'Dijon'],\n",
       "  'total_visits': 12,\n",
       "  'total_left': 15},\n",
       " {'country': 'Germany',\n",
       "  'cities_visited': ['Berlin', 'Hamburg', 'Stuttgart'],\n",
       "  'total_visits': 5,\n",
       "  'total_left': 16}]"
      ]
     },
     "execution_count": 37,
     "metadata": {},
     "output_type": "execute_result"
    }
   ],
   "source": [
    "[\n",
    "{\n",
    "\"country\":\"France\", \n",
    "\"cities_visited\": [\"Paris\", \"Lille\", \"Dijon\"],\n",
    "\"total_visits\": 12,\n",
    "\"total_left\": 15},\n",
    "{\n",
    "\"country\":\"Germany\", \n",
    "\"cities_visited\": [\"Berlin\", \"Hamburg\", \"Stuttgart\"],\n",
    "\"total_visits\": 5,\n",
    "\"total_left\": 16}\n",
    "]"
   ]
  },
  {
   "cell_type": "code",
   "execution_count": null,
   "metadata": {},
   "outputs": [],
   "source": []
  }
 ],
 "metadata": {
  "kernelspec": {
   "display_name": "Python 3",
   "language": "python",
   "name": "python3"
  },
  "language_info": {
   "codemirror_mode": {
    "name": "ipython",
    "version": 3
   },
   "file_extension": ".py",
   "mimetype": "text/x-python",
   "name": "python",
   "nbconvert_exporter": "python",
   "pygments_lexer": "ipython3",
   "version": "3.11.7"
  }
 },
 "nbformat": 4,
 "nbformat_minor": 2
}
