{
 "cells": [
  {
   "cell_type": "code",
   "execution_count": null,
   "metadata": {},
   "outputs": [],
   "source": []
  },
  {
   "cell_type": "code",
   "execution_count": null,
   "metadata": {},
   "outputs": [],
   "source": [
    "class User:\n",
    "    def print_():\n",
    "        return \"Hey this is the first function\"\n",
    "    \n",
    "    def number_1(number):\n",
    "        number += 1\n",
    "\n",
    "        return number\n",
    "\n",
    "user_1 = User()\n",
    "\n",
    "user_1.id = '001'\n",
    "user_1.username = 'angela'"
   ]
  },
  {
   "cell_type": "code",
   "execution_count": null,
   "metadata": {},
   "outputs": [
    {
     "name": "stdout",
     "output_type": "stream",
     "text": [
      "angela\n"
     ]
    }
   ],
   "source": [
    "print(user_1.username)"
   ]
  },
  {
   "cell_type": "code",
   "execution_count": null,
   "metadata": {},
   "outputs": [
    {
     "data": {
      "text/plain": [
       "3"
      ]
     },
     "metadata": {},
     "output_type": "display_data"
    }
   ],
   "source": [
    "class car:\n",
    "    def __init__(self, seats):\n",
    "        #initialize attributes \n",
    "        self.seats = seats\n",
    "\n",
    "\n",
    "\n",
    "my_car = car(3)\n",
    "\n",
    "my_car.seats"
   ]
  },
  {
   "cell_type": "code",
   "execution_count": null,
   "metadata": {},
   "outputs": [
    {
     "name": "stdout",
     "output_type": "stream",
     "text": [
      "0\n",
      "1\n",
      "1\n",
      "0\n"
     ]
    }
   ],
   "source": [
    "class User:\n",
    "    def __init__(self, user_id, username):\n",
    "        self.user_id = user_id\n",
    "        self.username = username\n",
    "        self.followerCount = 0\n",
    "        self.followingCount = 0\n",
    "    #method unlike a function always needs a self\n",
    "    def follow(self, user):\n",
    "        user.followerCount += 1\n",
    "        self.followingCount += 1\n",
    "    #self keyword is very important, its a way to refer to the object being worked \n",
    "        \n",
    "user_1 = User(\"001\", 'Carlos')\n",
    "user_2 = User('002', 'Anayanci')\n",
    "\n",
    "user_1.follow(user_2)\n",
    "print(user_1.followerCount)\n",
    "print(user_1.followingCount)\n",
    "\n",
    "print(user_2.followerCount)\n",
    "print(user_2.followingCount)\n",
    "\n"
   ]
  },
  {
   "cell_type": "code",
   "execution_count": null,
   "metadata": {},
   "outputs": [],
   "source": [
    "from data import question_data\n",
    "\n",
    "class Question:\n",
    "    def __init__(self, text, answer):\n",
    "        self.text = text\n",
    "        self.answer = answer"
   ]
  },
  {
   "cell_type": "code",
   "execution_count": null,
   "metadata": {},
   "outputs": [
    {
     "name": "stdout",
     "output_type": "stream",
     "text": [
      "[<__main__.Question object at 0x00000123E3C6EE10>, <__main__.Question object at 0x00000123E4B4E490>, <__main__.Question object at 0x00000123E4B62D90>, <__main__.Question object at 0x00000123E4C34990>, <__main__.Question object at 0x00000123E4F1C790>, <__main__.Question object at 0x00000123E3CB3950>, <__main__.Question object at 0x00000123E4B4D4D0>, <__main__.Question object at 0x00000123E4F23ED0>, <__main__.Question object at 0x00000123E4E52310>, <__main__.Question object at 0x00000123E4F7F110>, <__main__.Question object at 0x00000123E4B32510>, <__main__.Question object at 0x00000123E4C4F150>]\n"
     ]
    }
   ],
   "source": [
    "from data import question_data\n",
    "\n",
    "question_bank = []\n",
    "for question in question_data:\n",
    "    question_text = question['text']\n",
    "    question_answer = question['answer']\n",
    "    new_question = Question(question_text, question_answer)\n",
    "    question_bank.append(new_question)\n",
    "\n",
    "print(question_bank)"
   ]
  },
  {
   "cell_type": "code",
   "execution_count": null,
   "metadata": {},
   "outputs": [],
   "source": [
    "class QuizBrain:\n",
    "    def __init__(self, question_list):\n",
    "        self.question_number = 0\n",
    "        self.question_list = question_list \n",
    "\n",
    "    def next_question(self):\n",
    "        self.question_number += 1\n",
    "        text = self.question_list[self.question_number].text\n",
    "        answer = self.question_list[self.question_number].answer\n",
    "        return text, answer"
   ]
  },
  {
   "cell_type": "code",
   "execution_count": null,
   "metadata": {},
   "outputs": [],
   "source": [
    "text, answer = QuizBrain(question_bank).next_question()"
   ]
  },
  {
   "cell_type": "code",
   "execution_count": null,
   "metadata": {},
   "outputs": [
    {
     "ename": "NameError",
     "evalue": "name 'QuizBrain' is not defined",
     "output_type": "error",
     "traceback": [
      "\u001b[1;31m---------------------------------------------------------------------------\u001b[0m\n",
      "\u001b[1;31mNameError\u001b[0m                                 Traceback (most recent call last)\n",
      "Cell \u001b[1;32mIn[1], line 1\u001b[0m\n",
      "\u001b[1;32m----> 1\u001b[0m q \u001b[38;5;241m=\u001b[39m \u001b[43mQuizBrain\u001b[49m(question_bank)\n",
      "\u001b[0;32m      2\u001b[0m is_on \u001b[38;5;241m=\u001b[39m \u001b[38;5;28;01mTrue\u001b[39;00m\n",
      "\u001b[0;32m      3\u001b[0m score \u001b[38;5;241m=\u001b[39m \u001b[38;5;241m0\u001b[39m\n",
      "\n",
      "\u001b[1;31mNameError\u001b[0m: name 'QuizBrain' is not defined"
     ]
    }
   ],
   "source": [
    "q = QuizBrain(question_bank)\n",
    "is_on = True\n",
    "score = 0\n",
    "while is_on == True:\n",
    "    text, answer = q.next_question()\n",
    "    user_answer = input(f'{text}(Answer True or False)')\n",
    "\n",
    "    if user_answer == answer:\n",
    "        score += 1\n",
    "        q.next_question()\n",
    "    else:\n",
    "        print(f'Game Over. Answer was {answer}')\n",
    "        break"
   ]
  }
 ],
 "metadata": {
  "language_info": {
   "name": "python"
  }
 },
 "nbformat": 4,
 "nbformat_minor": 2
}
