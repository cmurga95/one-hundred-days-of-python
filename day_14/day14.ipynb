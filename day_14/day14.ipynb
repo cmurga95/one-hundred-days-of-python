{
 "cells": [
  {
   "cell_type": "code",
   "execution_count": 2,
   "metadata": {},
   "outputs": [],
   "source": [
    "from data import data\n",
    "import numpy as np\n"
   ]
  },
  {
   "cell_type": "code",
   "execution_count": 54,
   "metadata": {},
   "outputs": [
    {
     "data": {
      "text/plain": [
       "50"
      ]
     },
     "execution_count": 54,
     "metadata": {},
     "output_type": "execute_result"
    }
   ],
   "source": [
    "len(data)"
   ]
  },
  {
   "cell_type": "code",
   "execution_count": 13,
   "metadata": {},
   "outputs": [
    {
     "data": {
      "text/plain": [
       "53"
      ]
     },
     "execution_count": 13,
     "metadata": {},
     "output_type": "execute_result"
    }
   ],
   "source": [
    "list(np.random.choice(data).values())[1]"
   ]
  },
  {
   "cell_type": "markdown",
   "metadata": {},
   "source": [
    "hgff"
   ]
  },
  {
   "cell_type": "code",
   "execution_count": 45,
   "metadata": {},
   "outputs": [
    {
     "name": "stdout",
     "output_type": "stream",
     "text": [
      "['Selena Gomez', 174, 'Musician and actress', 'United States']\n",
      "Who has more followers?\n",
      "Compare A: Selena Gomez, a Musician and actress from United States\n",
      "vs\n",
      "Compare B: Camila Cabello, a Musician from Cuba\n",
      "['NASA', 56, 'Space agency', 'United States']\n",
      "Who has more followers?\n",
      "Compare A: NASA, a Space agency from United States\n",
      "vs\n",
      "Compare B: Dwayne Johnson, a Actor and professional wrestler from United States\n",
      "You lost. Score 1\n"
     ]
    }
   ],
   "source": [
    "from data import data\n",
    "import numpy as np\n",
    "\n",
    "value_dictionary = {\"name\": 0,\n",
    "                    \"followers\": 1,\n",
    "                    \"profession\": 2,\n",
    "                    \"country\": 3}\n",
    "\n",
    "def generate_values():\n",
    "    return list(np.random.choice(data).values())\n",
    "\n",
    "COUNT = 0\n",
    "\n",
    "def compare_values(value1, value2):\n",
    "    if value1[1] > value2[1]:\n",
    "        return value1\n",
    "    else:\n",
    "        return value2\n",
    "\n",
    "def game():   \n",
    "    game_on = True \n",
    "    value1, value2 = generate_values(), generate_values()\n",
    "    score = 0\n",
    "    while game_on:\n",
    "        value1, value2 = generate_values(), generate_values()\n",
    "        print(value1)\n",
    "\n",
    "        print(\"Who has more followers?\")\n",
    "\n",
    "        print(f\"Compare A: {value1[0]}, a {value1[2]} from {value1[3]}\")\n",
    "\n",
    "        print(\"vs\")\n",
    "\n",
    "        print(f\"Compare B: {value2[0]}, a {value2[2]} from {value2[3]}\")\n",
    "\n",
    "        guess = input(\"Who has more followers? A or B\")\n",
    "\n",
    "        answer = compare_values(value1, value2)\n",
    "        \n",
    "        if answer == value1 and guess == 'A':\n",
    "            score +=1\n",
    "        elif answer == value2 and guess == 'B':\n",
    "            score +=1\n",
    "        else:\n",
    "            game_on = False\n",
    "            print(f\"You lost. Score {score}\")\n",
    "            \n",
    "        if guess == 'q':\n",
    "            game_on = False\n",
    "game()"
   ]
  }
 ],
 "metadata": {
  "kernelspec": {
   "display_name": "Python 3",
   "language": "python",
   "name": "python3"
  },
  "language_info": {
   "codemirror_mode": {
    "name": "ipython",
    "version": 3
   },
   "file_extension": ".py",
   "mimetype": "text/x-python",
   "name": "python",
   "nbconvert_exporter": "python",
   "pygments_lexer": "ipython3",
   "version": "3.11.7"
  }
 },
 "nbformat": 4,
 "nbformat_minor": 2
}
